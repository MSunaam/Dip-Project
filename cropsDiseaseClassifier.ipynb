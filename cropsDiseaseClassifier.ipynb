{
  "nbformat": 4,
  "nbformat_minor": 0,
  "metadata": {
    "colab": {
      "provenance": [],
      "gpuType": "V100",
      "machine_shape": "hm"
    },
    "kernelspec": {
      "name": "python3",
      "display_name": "Python 3"
    },
    "language_info": {
      "name": "python"
    },
    "accelerator": "GPU"
  },
  "cells": [
    {
      "cell_type": "markdown",
      "source": [
        "\n",
        "**Script for data cleaning**"
      ],
      "metadata": {
        "id": "O8BddO6yMgIQ"
      }
    },
    {
      "cell_type": "code",
      "source": [
        "import os\n",
        "from PIL import Image\n",
        "from tqdm import tqdm\n",
        "\n",
        "\n",
        "directoryName = \"/content/drive/MyDrive/CCMT_FInal Dataset\";\n",
        "\n",
        "if os.path.exists(directoryName):\n",
        "    delete_corrupted_images(directoryName)\n",
        "    print(\"Operation complete.\")\n",
        "else:\n",
        "    print(\"Directory not found.\")\n",
        "\n",
        "def delete_corrupted_images(directory):\n",
        "    for root, dirs, files in os.walk(directory):\n",
        "        for file in files:\n",
        "            file_path = os.path.join(root, file)\n",
        "\n",
        "            try:\n",
        "                # Attempt to open the image file\n",
        "                with Image.open(file_path) as img:\n",
        "                    pass  # Do nothing if the file is successfully opened\n",
        "            except (IOError, SyntaxError) as e:\n",
        "                print(f\"Corrupted file: {file_path}. Deleting...\")\n",
        "                os.remove(file_path)\n",
        "\n",
        "\n",
        "\n"
      ],
      "metadata": {
        "colab": {
          "base_uri": "https://localhost:8080/"
        },
        "id": "hVDRZPIdLfK-",
        "outputId": "9fb3c36d-bdc0-4d6e-d961-3921ca14bde9"
      },
      "execution_count": null,
      "outputs": [
        {
          "output_type": "stream",
          "name": "stdout",
          "text": [
            "Directory not found.\n"
          ]
        }
      ]
    },
    {
      "cell_type": "code",
      "source": [
        "!python train.py -r"
      ],
      "metadata": {
        "id": "thRDMFzSJg6k"
      },
      "execution_count": null,
      "outputs": []
    },
    {
      "cell_type": "code",
      "source": [
        "!python /content/drive/MyDrive/DiseaseClassifier/inference.py -p \"/content/drive/MyDrive/CCMT_FInal Dataset/Maize_healthy/healthy37_.jpg\""
      ],
      "metadata": {
        "colab": {
          "base_uri": "https://localhost:8080/"
        },
        "id": "jy1jACCunjVR",
        "outputId": "dd4fc5c1-9f8f-490c-d218-12145263593a"
      },
      "execution_count": null,
      "outputs": [
        {
          "output_type": "stream",
          "name": "stdout",
          "text": [
            "Image path: /content/drive/MyDrive/CCMT_FInal Dataset/Maize_healthy/healthy37_.jpg\n",
            "/usr/local/lib/python3.10/dist-packages/torchvision/models/_utils.py:208: UserWarning: The parameter 'pretrained' is deprecated since 0.13 and may be removed in the future, please use 'weights' instead.\n",
            "  warnings.warn(\n",
            "/usr/local/lib/python3.10/dist-packages/torchvision/models/_utils.py:223: UserWarning: Arguments other than a weight enum or `None` for 'weights' are deprecated since 0.13 and may be removed in the future. The current behavior is equivalent to passing `weights=ResNet50_Weights.IMAGENET1K_V1`. You can also use `weights=ResNet50_Weights.DEFAULT` to get the most up-to-date weights.\n",
            "  warnings.warn(msg)\n",
            "Disease Maize_healthy Confidence Level 77.28632092475891%\n",
            "\n"
          ]
        }
      ]
    },
    {
      "cell_type": "code",
      "source": [
        "#tpu support\n",
        "!pip install torch-xla\n",
        "!pip install torchvision\n"
      ],
      "metadata": {
        "colab": {
          "base_uri": "https://localhost:8080/",
          "height": 1000
        },
        "id": "tGlYJnEI4FlQ",
        "outputId": "d3023865-b0ad-4627-dd64-ae63fe81509b"
      },
      "execution_count": null,
      "outputs": [
        {
          "output_type": "stream",
          "name": "stdout",
          "text": [
            "Collecting torch-xla\n",
            "  Downloading torch_xla-2.1.0-cp310-cp310-manylinux_2_28_x86_64.whl (81.1 MB)\n",
            "\u001b[2K     \u001b[90m━━━━━━━━━━━━━━━━━━━━━━━━━━━━━━━━━━━━━━━━\u001b[0m \u001b[32m81.1/81.1 MB\u001b[0m \u001b[31m5.9 MB/s\u001b[0m eta \u001b[36m0:00:00\u001b[0m\n",
            "\u001b[?25hRequirement already satisfied: absl-py>=1.0.0 in /usr/local/lib/python3.10/dist-packages (from torch-xla) (1.4.0)\n",
            "Collecting cloud-tpu-client>=0.10.0 (from torch-xla)\n",
            "  Downloading cloud_tpu_client-0.10-py3-none-any.whl (7.4 kB)\n",
            "Requirement already satisfied: pyyaml in /usr/local/lib/python3.10/dist-packages (from torch-xla) (6.0.1)\n",
            "Collecting google-api-python-client==1.8.0 (from cloud-tpu-client>=0.10.0->torch-xla)\n",
            "  Downloading google_api_python_client-1.8.0-py3-none-any.whl (57 kB)\n",
            "\u001b[2K     \u001b[90m━━━━━━━━━━━━━━━━━━━━━━━━━━━━━━━━━━━━━━━━\u001b[0m \u001b[32m57.7/57.7 kB\u001b[0m \u001b[31m6.8 MB/s\u001b[0m eta \u001b[36m0:00:00\u001b[0m\n",
            "\u001b[?25hRequirement already satisfied: oauth2client in /usr/local/lib/python3.10/dist-packages (from cloud-tpu-client>=0.10.0->torch-xla) (4.1.3)\n",
            "Requirement already satisfied: httplib2<1dev,>=0.9.2 in /usr/local/lib/python3.10/dist-packages (from google-api-python-client==1.8.0->cloud-tpu-client>=0.10.0->torch-xla) (0.22.0)\n",
            "Requirement already satisfied: google-auth>=1.4.1 in /usr/local/lib/python3.10/dist-packages (from google-api-python-client==1.8.0->cloud-tpu-client>=0.10.0->torch-xla) (2.17.3)\n",
            "Requirement already satisfied: google-auth-httplib2>=0.0.3 in /usr/local/lib/python3.10/dist-packages (from google-api-python-client==1.8.0->cloud-tpu-client>=0.10.0->torch-xla) (0.1.1)\n",
            "Collecting google-api-core<2dev,>=1.13.0 (from google-api-python-client==1.8.0->cloud-tpu-client>=0.10.0->torch-xla)\n",
            "  Downloading google_api_core-1.34.0-py3-none-any.whl (120 kB)\n",
            "\u001b[2K     \u001b[90m━━━━━━━━━━━━━━━━━━━━━━━━━━━━━━━━━━━━━━━━\u001b[0m \u001b[32m120.2/120.2 kB\u001b[0m \u001b[31m10.1 MB/s\u001b[0m eta \u001b[36m0:00:00\u001b[0m\n",
            "\u001b[?25hRequirement already satisfied: six<2dev,>=1.6.1 in /usr/local/lib/python3.10/dist-packages (from google-api-python-client==1.8.0->cloud-tpu-client>=0.10.0->torch-xla) (1.16.0)\n",
            "Collecting uritemplate<4dev,>=3.0.0 (from google-api-python-client==1.8.0->cloud-tpu-client>=0.10.0->torch-xla)\n",
            "  Downloading uritemplate-3.0.1-py2.py3-none-any.whl (15 kB)\n",
            "Requirement already satisfied: pyasn1>=0.1.7 in /usr/local/lib/python3.10/dist-packages (from oauth2client->cloud-tpu-client>=0.10.0->torch-xla) (0.5.0)\n",
            "Requirement already satisfied: pyasn1-modules>=0.0.5 in /usr/local/lib/python3.10/dist-packages (from oauth2client->cloud-tpu-client>=0.10.0->torch-xla) (0.3.0)\n",
            "Requirement already satisfied: rsa>=3.1.4 in /usr/local/lib/python3.10/dist-packages (from oauth2client->cloud-tpu-client>=0.10.0->torch-xla) (4.9)\n",
            "Requirement already satisfied: googleapis-common-protos<2.0dev,>=1.56.2 in /usr/local/lib/python3.10/dist-packages (from google-api-core<2dev,>=1.13.0->google-api-python-client==1.8.0->cloud-tpu-client>=0.10.0->torch-xla) (1.61.0)\n",
            "Requirement already satisfied: protobuf!=3.20.0,!=3.20.1,!=4.21.0,!=4.21.1,!=4.21.2,!=4.21.3,!=4.21.4,!=4.21.5,<4.0.0dev,>=3.19.5 in /usr/local/lib/python3.10/dist-packages (from google-api-core<2dev,>=1.13.0->google-api-python-client==1.8.0->cloud-tpu-client>=0.10.0->torch-xla) (3.20.3)\n",
            "Requirement already satisfied: requests<3.0.0dev,>=2.18.0 in /usr/local/lib/python3.10/dist-packages (from google-api-core<2dev,>=1.13.0->google-api-python-client==1.8.0->cloud-tpu-client>=0.10.0->torch-xla) (2.31.0)\n",
            "Requirement already satisfied: cachetools<6.0,>=2.0.0 in /usr/local/lib/python3.10/dist-packages (from google-auth>=1.4.1->google-api-python-client==1.8.0->cloud-tpu-client>=0.10.0->torch-xla) (5.3.2)\n",
            "Requirement already satisfied: pyparsing!=3.0.0,!=3.0.1,!=3.0.2,!=3.0.3,<4,>=2.4.2 in /usr/local/lib/python3.10/dist-packages (from httplib2<1dev,>=0.9.2->google-api-python-client==1.8.0->cloud-tpu-client>=0.10.0->torch-xla) (3.1.1)\n",
            "Requirement already satisfied: charset-normalizer<4,>=2 in /usr/local/lib/python3.10/dist-packages (from requests<3.0.0dev,>=2.18.0->google-api-core<2dev,>=1.13.0->google-api-python-client==1.8.0->cloud-tpu-client>=0.10.0->torch-xla) (3.3.2)\n",
            "Requirement already satisfied: idna<4,>=2.5 in /usr/local/lib/python3.10/dist-packages (from requests<3.0.0dev,>=2.18.0->google-api-core<2dev,>=1.13.0->google-api-python-client==1.8.0->cloud-tpu-client>=0.10.0->torch-xla) (3.4)\n",
            "Requirement already satisfied: urllib3<3,>=1.21.1 in /usr/local/lib/python3.10/dist-packages (from requests<3.0.0dev,>=2.18.0->google-api-core<2dev,>=1.13.0->google-api-python-client==1.8.0->cloud-tpu-client>=0.10.0->torch-xla) (2.0.7)\n",
            "Requirement already satisfied: certifi>=2017.4.17 in /usr/local/lib/python3.10/dist-packages (from requests<3.0.0dev,>=2.18.0->google-api-core<2dev,>=1.13.0->google-api-python-client==1.8.0->cloud-tpu-client>=0.10.0->torch-xla) (2023.7.22)\n",
            "Installing collected packages: uritemplate, google-api-core, google-api-python-client, cloud-tpu-client, torch-xla\n",
            "  Attempting uninstall: uritemplate\n",
            "    Found existing installation: uritemplate 4.1.1\n",
            "    Uninstalling uritemplate-4.1.1:\n",
            "      Successfully uninstalled uritemplate-4.1.1\n",
            "  Attempting uninstall: google-api-core\n",
            "    Found existing installation: google-api-core 2.11.1\n",
            "    Uninstalling google-api-core-2.11.1:\n",
            "      Successfully uninstalled google-api-core-2.11.1\n",
            "  Attempting uninstall: google-api-python-client\n",
            "    Found existing installation: google-api-python-client 2.84.0\n",
            "    Uninstalling google-api-python-client-2.84.0:\n",
            "      Successfully uninstalled google-api-python-client-2.84.0\n",
            "\u001b[31mERROR: pip's dependency resolver does not currently take into account all the packages that are installed. This behaviour is the source of the following dependency conflicts.\n",
            "pydrive2 1.6.3 requires google-api-python-client>=1.12.5, but you have google-api-python-client 1.8.0 which is incompatible.\n",
            "earthengine-api 0.1.379 requires google-api-python-client>=1.12.1, but you have google-api-python-client 1.8.0 which is incompatible.\u001b[0m\u001b[31m\n",
            "\u001b[0mSuccessfully installed cloud-tpu-client-0.10 google-api-core-1.34.0 google-api-python-client-1.8.0 torch-xla-2.1.0 uritemplate-3.0.1\n"
          ]
        },
        {
          "output_type": "display_data",
          "data": {
            "application/vnd.colab-display-data+json": {
              "pip_warning": {
                "packages": [
                  "google"
                ]
              }
            }
          },
          "metadata": {}
        },
        {
          "output_type": "stream",
          "name": "stdout",
          "text": [
            "Requirement already satisfied: torchvision in /usr/local/lib/python3.10/dist-packages (0.16.0+cu118)\n",
            "Requirement already satisfied: numpy in /usr/local/lib/python3.10/dist-packages (from torchvision) (1.23.5)\n",
            "Requirement already satisfied: requests in /usr/local/lib/python3.10/dist-packages (from torchvision) (2.31.0)\n",
            "Requirement already satisfied: torch==2.1.0 in /usr/local/lib/python3.10/dist-packages (from torchvision) (2.1.0+cu118)\n",
            "Requirement already satisfied: pillow!=8.3.*,>=5.3.0 in /usr/local/lib/python3.10/dist-packages (from torchvision) (9.4.0)\n",
            "Requirement already satisfied: filelock in /usr/local/lib/python3.10/dist-packages (from torch==2.1.0->torchvision) (3.13.1)\n",
            "Requirement already satisfied: typing-extensions in /usr/local/lib/python3.10/dist-packages (from torch==2.1.0->torchvision) (4.5.0)\n",
            "Requirement already satisfied: sympy in /usr/local/lib/python3.10/dist-packages (from torch==2.1.0->torchvision) (1.12)\n",
            "Requirement already satisfied: networkx in /usr/local/lib/python3.10/dist-packages (from torch==2.1.0->torchvision) (3.2.1)\n",
            "Requirement already satisfied: jinja2 in /usr/local/lib/python3.10/dist-packages (from torch==2.1.0->torchvision) (3.1.2)\n",
            "Requirement already satisfied: fsspec in /usr/local/lib/python3.10/dist-packages (from torch==2.1.0->torchvision) (2023.6.0)\n",
            "Requirement already satisfied: triton==2.1.0 in /usr/local/lib/python3.10/dist-packages (from torch==2.1.0->torchvision) (2.1.0)\n",
            "Requirement already satisfied: charset-normalizer<4,>=2 in /usr/local/lib/python3.10/dist-packages (from requests->torchvision) (3.3.2)\n",
            "Requirement already satisfied: idna<4,>=2.5 in /usr/local/lib/python3.10/dist-packages (from requests->torchvision) (3.4)\n",
            "Requirement already satisfied: urllib3<3,>=1.21.1 in /usr/local/lib/python3.10/dist-packages (from requests->torchvision) (2.0.7)\n",
            "Requirement already satisfied: certifi>=2017.4.17 in /usr/local/lib/python3.10/dist-packages (from requests->torchvision) (2023.7.22)\n",
            "Requirement already satisfied: MarkupSafe>=2.0 in /usr/local/lib/python3.10/dist-packages (from jinja2->torch==2.1.0->torchvision) (2.1.3)\n",
            "Requirement already satisfied: mpmath>=0.19 in /usr/local/lib/python3.10/dist-packages (from sympy->torch==2.1.0->torchvision) (1.3.0)\n"
          ]
        }
      ]
    },
    {
      "cell_type": "code",
      "source": [
        "# tpu support\n",
        "import torch_xla\n",
        "import torch_xla.core.xla_model as xm"
      ],
      "metadata": {
        "id": "GMnhz2GO0Tn1",
        "colab": {
          "base_uri": "https://localhost:8080/",
          "height": 349
        },
        "outputId": "e57b3419-1b10-4f23-dbf9-2ddac4ea9935"
      },
      "execution_count": null,
      "outputs": [
        {
          "output_type": "error",
          "ename": "ModuleNotFoundError",
          "evalue": "ignored",
          "traceback": [
            "\u001b[0;31m---------------------------------------------------------------------------\u001b[0m",
            "\u001b[0;31mModuleNotFoundError\u001b[0m                       Traceback (most recent call last)",
            "\u001b[0;32m<ipython-input-4-97082aaed0c0>\u001b[0m in \u001b[0;36m<cell line: 2>\u001b[0;34m()\u001b[0m\n\u001b[1;32m      1\u001b[0m \u001b[0;31m# tpu support\u001b[0m\u001b[0;34m\u001b[0m\u001b[0;34m\u001b[0m\u001b[0m\n\u001b[0;32m----> 2\u001b[0;31m \u001b[0;32mimport\u001b[0m \u001b[0mtorch_xla\u001b[0m\u001b[0;34m\u001b[0m\u001b[0;34m\u001b[0m\u001b[0m\n\u001b[0m\u001b[1;32m      3\u001b[0m \u001b[0;32mimport\u001b[0m \u001b[0mtorch_xla\u001b[0m\u001b[0;34m.\u001b[0m\u001b[0mcore\u001b[0m\u001b[0;34m.\u001b[0m\u001b[0mxla_model\u001b[0m \u001b[0;32mas\u001b[0m \u001b[0mxm\u001b[0m\u001b[0;34m\u001b[0m\u001b[0;34m\u001b[0m\u001b[0m\n",
            "\u001b[0;31mModuleNotFoundError\u001b[0m: No module named 'torch_xla'",
            "",
            "\u001b[0;31m---------------------------------------------------------------------------\u001b[0;32m\nNOTE: If your import is failing due to a missing package, you can\nmanually install dependencies using either !pip or !apt.\n\nTo view examples of installing some common dependencies, click the\n\"Open Examples\" button below.\n\u001b[0;31m---------------------------------------------------------------------------\u001b[0m\n"
          ],
          "errorDetails": {
            "actions": [
              {
                "action": "open_url",
                "actionText": "Open Examples",
                "url": "/notebooks/snippets/importing_libraries.ipynb"
              }
            ]
          }
        }
      ]
    },
    {
      "cell_type": "code",
      "source": [
        "# for using tpu only\n",
        "DEVICE = xm.xla_device()"
      ],
      "metadata": {
        "id": "6kv3u9iD43zb",
        "colab": {
          "base_uri": "https://localhost:8080/",
          "height": 197
        },
        "outputId": "5497b505-2569-402b-845b-fae6b827497e"
      },
      "execution_count": null,
      "outputs": [
        {
          "output_type": "error",
          "ename": "NameError",
          "evalue": "ignored",
          "traceback": [
            "\u001b[0;31m---------------------------------------------------------------------------\u001b[0m",
            "\u001b[0;31mNameError\u001b[0m                                 Traceback (most recent call last)",
            "\u001b[0;32m<ipython-input-7-028973f469bf>\u001b[0m in \u001b[0;36m<cell line: 2>\u001b[0;34m()\u001b[0m\n\u001b[1;32m      1\u001b[0m \u001b[0;31m# for using tpu only\u001b[0m\u001b[0;34m\u001b[0m\u001b[0;34m\u001b[0m\u001b[0m\n\u001b[0;32m----> 2\u001b[0;31m \u001b[0mDEVICE\u001b[0m \u001b[0;34m=\u001b[0m \u001b[0mxm\u001b[0m\u001b[0;34m.\u001b[0m\u001b[0mxla_device\u001b[0m\u001b[0;34m(\u001b[0m\u001b[0;34m)\u001b[0m\u001b[0;34m\u001b[0m\u001b[0;34m\u001b[0m\u001b[0m\n\u001b[0m",
            "\u001b[0;31mNameError\u001b[0m: name 'xm' is not defined"
          ]
        }
      ]
    },
    {
      "cell_type": "code",
      "source": [
        "import os\n",
        "import torch\n",
        "import torch.nn as nn\n",
        "import torch.optim as optim\n",
        "from torch.utils.data import DataLoader, random_split\n",
        "from torchvision import datasets, transforms, models\n",
        "from PIL import Image, ImageFile\n",
        "import matplotlib.pyplot as plt\n",
        "import datetime\n"
      ],
      "metadata": {
        "id": "OLuVq-ag4Mya"
      },
      "execution_count": null,
      "outputs": []
    },
    {
      "cell_type": "code",
      "source": [
        "from google.colab import drive\n",
        "drive.mount('/content/drive')"
      ],
      "metadata": {
        "colab": {
          "base_uri": "https://localhost:8080/"
        },
        "id": "4yAWm67dvS4G",
        "outputId": "4b65b585-cb3f-4be9-984a-87bd2b574ec3"
      },
      "execution_count": null,
      "outputs": [
        {
          "output_type": "stream",
          "name": "stdout",
          "text": [
            "Mounted at /content/drive\n"
          ]
        }
      ]
    },
    {
      "cell_type": "code",
      "source": [
        "ImageFile.LOAD_TRUNCATED_IMAGES = True"
      ],
      "metadata": {
        "id": "M99A3jEZMyzc"
      },
      "execution_count": null,
      "outputs": []
    },
    {
      "cell_type": "code",
      "source": [
        "DEVICE = torch.device(\"cuda\" if torch.cuda.is_available() else \"cpu\")\n",
        "# defines the number of processes that loads the data, idealy set according to the number of the cores available in cpu\n",
        "NUM_WORKERS = min(4, os.cpu_count()) if DEVICE == \"cpu\" else 2\n",
        "BATCH_SIZE = 128;\n",
        "IMAGE_SIZE = 224\n",
        "PATH = \"/content/drive/MyDrive/CCMT_FInal Dataset\";\n",
        "TRAIN_RATIO = 0.8\n",
        "layersToTrain = 10;\n"
      ],
      "metadata": {
        "id": "sFqkW_f8A9b3"
      },
      "execution_count": null,
      "outputs": []
    },
    {
      "cell_type": "code",
      "source": [
        "print(full_dataset.classes)"
      ],
      "metadata": {
        "colab": {
          "base_uri": "https://localhost:8080/"
        },
        "id": "QXVWCmNYoqLA",
        "outputId": "d3bfbd56-4687-418f-9517-f60f462f54f8"
      },
      "execution_count": null,
      "outputs": [
        {
          "output_type": "stream",
          "name": "stdout",
          "text": [
            "['Cashew_anthracnose', 'Cashew_gumosis', 'Cashew_healthy', 'Cashew_leaf miner', 'Cashew_red rust', 'Cassava_bacterial blight', 'Cassava_brown spot', 'Cassava_green mite', 'Cassava_healthy', 'Cassava_mosaic', 'Maize_fall armyworm', 'Maize_grasshoper', 'Maize_healthy', 'Maize_leaf beetle', 'Maize_leaf blight', 'Maize_leaf spot', 'Maize_streak virus', 'Tomato_healthy', 'Tomato_leaf blight', 'Tomato_leaf curl', 'Tomato_septoria leaf spot', 'Tomato_verticulium wilt']\n"
          ]
        }
      ]
    },
    {
      "cell_type": "code",
      "source": [
        "transform = transforms.Compose([\n",
        "    transforms.Resize((IMAGE_SIZE, IMAGE_SIZE)),\n",
        "    transforms.ToTensor()\n",
        "    ])\n",
        "\n",
        "full_dataset = datasets.ImageFolder(root=PATH, transform=transform)\n",
        "\n",
        "\n",
        "train_size = int(TRAIN_RATIO * len(full_dataset))\n",
        "test_size = len(full_dataset) - train_size\n",
        "\n",
        "# Split the dataset into training and testing sets\n",
        "train_dataset, test_dataset = random_split(full_dataset, [train_size, test_size])\n",
        "\n",
        "# Create data loaders\n",
        "train_loader = DataLoader(train_dataset, batch_size=BATCH_SIZE, shuffle=True,num_workers = NUM_WORKERS)\n",
        "val_loader = DataLoader(test_dataset, batch_size=BATCH_SIZE, shuffle=True,num_workers = NUM_WORKERS)\n"
      ],
      "metadata": {
        "id": "2IquKXPNK7-B"
      },
      "execution_count": null,
      "outputs": []
    },
    {
      "cell_type": "code",
      "source": [
        "critValidationLoss = checkpoint[\"clsfValidationLoss\"]\n",
        "critTrainingLoss = checkpoint[\"critTrainingLoss\"]\n",
        "clsfValidationLoss = checkpoint[\"clsfValidationLoss\"]\n",
        "clsfTrainingLoss = checkpoint[\"clsfTrainingLoss\"]\n",
        "# clsfValidationBatch = checkpoint[\"clsfValidationBatch\"]\n",
        "epochIters   = checkpoint[\"epochIters\"]\n",
        "lossCriterionList = checkpoint[\"lossCriterionList\"]\n",
        "lossMisclassificationList = checkpoint[\"lossMisclassificationList\"]\n",
        "bIters = checkpoint[\"bIters\"]"
      ],
      "metadata": {
        "id": "yxWLf-IyTK8t"
      },
      "execution_count": null,
      "outputs": []
    },
    {
      "cell_type": "code",
      "source": [
        "num_classes = len(full_dataset.classes)"
      ],
      "metadata": {
        "id": "V2qgX_5J0jxb"
      },
      "execution_count": null,
      "outputs": []
    },
    {
      "cell_type": "markdown",
      "source": [],
      "metadata": {
        "id": "rHBI7gE5bF_-"
      }
    },
    {
      "cell_type": "code",
      "source": [
        "resnet = models.resnet50(pretrained=True)\n",
        "\n",
        "resnet.fc = nn.Linear(resnet.fc.in_features, num_classes)\n",
        "# Define loss function and optimizer\n",
        "criterion = nn.CrossEntropyLoss()"
      ],
      "metadata": {
        "id": "3oK4_4_09OiA",
        "colab": {
          "base_uri": "https://localhost:8080/"
        },
        "outputId": "6eb806fb-06b1-4bb5-94d0-9fc01d3dc400"
      },
      "execution_count": null,
      "outputs": [
        {
          "output_type": "stream",
          "name": "stderr",
          "text": [
            "/usr/local/lib/python3.10/dist-packages/torchvision/models/_utils.py:208: UserWarning: The parameter 'pretrained' is deprecated since 0.13 and may be removed in the future, please use 'weights' instead.\n",
            "  warnings.warn(\n",
            "/usr/local/lib/python3.10/dist-packages/torchvision/models/_utils.py:223: UserWarning: Arguments other than a weight enum or `None` for 'weights' are deprecated since 0.13 and may be removed in the future. The current behavior is equivalent to passing `weights=ResNet50_Weights.IMAGENET1K_V1`. You can also use `weights=ResNet50_Weights.DEFAULT` to get the most up-to-date weights.\n",
            "  warnings.warn(msg)\n",
            "Downloading: \"https://download.pytorch.org/models/resnet50-0676ba61.pth\" to /root/.cache/torch/hub/checkpoints/resnet50-0676ba61.pth\n",
            "100%|██████████| 97.8M/97.8M [00:00<00:00, 180MB/s]\n"
          ]
        }
      ]
    },
    {
      "cell_type": "code",
      "source": [
        "optimizer = optim.SGD(resnet.parameters(), lr=0.001, momentum=0.9)"
      ],
      "metadata": {
        "id": "_jLwjXOz6ptr"
      },
      "execution_count": null,
      "outputs": []
    },
    {
      "cell_type": "code",
      "source": [
        "#loading model states from a checkpoint\n",
        "resnet = resnet.to(DEVICE)\n",
        "checkpoint = torch.load('/content/drive/MyDrive/cropsClassifierCheckpoints/checkpoint_11_epoch_lr=0.000001_2.pth',map_location=torch.device(DEVICE\n",
        "                                                                                                                           ));\n",
        "resnet.load_state_dict(checkpoint['model_state_dict'])\n",
        "optimizer.load_state_dict(checkpoint['optimizer_state_dict'])\n"
      ],
      "metadata": {
        "id": "lirAHSC6_MuZ"
      },
      "execution_count": null,
      "outputs": []
    },
    {
      "cell_type": "markdown",
      "source": [],
      "metadata": {
        "id": "KyRf2m899POe"
      }
    },
    {
      "cell_type": "code",
      "source": [
        "layersForTraining = list(resnet.children())[-layersToTrain:]\n",
        "\n",
        "# Set requires_grad to True for the parameters of the identified layers\n",
        "for layer in layersForTraining:\n",
        "    for param in layer.parameters():\n",
        "        param.requires_grad = True\n"
      ],
      "metadata": {
        "id": "AeRNkYYJDhQL"
      },
      "execution_count": null,
      "outputs": []
    },
    {
      "cell_type": "code",
      "source": [
        "print(len(layersForTraining))"
      ],
      "metadata": {
        "colab": {
          "base_uri": "https://localhost:8080/"
        },
        "id": "xsamUsz8cAEv",
        "outputId": "a32b90ac-08f1-4890-a050-4bf19cdeaa57"
      },
      "execution_count": null,
      "outputs": [
        {
          "output_type": "stream",
          "name": "stdout",
          "text": [
            "10\n"
          ]
        }
      ]
    },
    {
      "cell_type": "code",
      "source": [
        "total_parameters = len(list(resnet.parameters()))\n",
        "total_layers = len(list(resnet.children()))\n",
        "print(total_parameters, total_layers)"
      ],
      "metadata": {
        "colab": {
          "base_uri": "https://localhost:8080/"
        },
        "id": "XeptSGiecXkf",
        "outputId": "c8261e0e-0922-433d-e250-1c4badc25f99"
      },
      "execution_count": null,
      "outputs": [
        {
          "output_type": "stream",
          "name": "stdout",
          "text": [
            "161 10\n"
          ]
        }
      ]
    },
    {
      "cell_type": "code",
      "source": [
        "def count_non_frozen_layers(model):\n",
        "    total_layers = 0\n",
        "    non_frozen_layers = 0\n",
        "\n",
        "    for param in model.parameters():\n",
        "        total_layers += 1\n",
        "        if param.requires_grad:\n",
        "            non_frozen_layers += 1\n",
        "\n",
        "    return non_frozen_layers, total_layers\n",
        "\n",
        "\n",
        "num_non_frozen, total_layers = count_non_frozen_layers(resnet)\n",
        "\n",
        "print(f\"Total layers: {total_layers}\")\n",
        "print(f\"Non-frozen layers: {num_non_frozen}\")\n"
      ],
      "metadata": {
        "colab": {
          "base_uri": "https://localhost:8080/"
        },
        "id": "VwS524dAbphc",
        "outputId": "48c37eaa-deaf-4fbf-be6c-87c28e64ff33"
      },
      "execution_count": null,
      "outputs": [
        {
          "output_type": "stream",
          "name": "stdout",
          "text": [
            "Total layers: 161\n",
            "Non-frozen layers: 161\n"
          ]
        }
      ]
    },
    {
      "cell_type": "code",
      "source": [
        "# these structures maintain the stats for whole epoch\n",
        "\n",
        "critValidationLoss = [];\n",
        "critTrainingLoss = [];\n",
        "\n",
        "# for misclassification stats\n",
        "\n",
        "clsfValidationLoss = [];\n",
        "clsfTrainingLoss = [];\n",
        "\n",
        "clsfValidationBatch = []\n",
        "\n",
        "epochIters = []\n",
        "print(f'device {DEVICE} , num_workers {NUM_WORKERS}' )"
      ],
      "metadata": {
        "id": "wM26MSklEztG",
        "colab": {
          "base_uri": "https://localhost:8080/"
        },
        "outputId": "848f8780-28e1-4a7a-f42f-8a42fd44dba7"
      },
      "execution_count": null,
      "outputs": [
        {
          "output_type": "stream",
          "name": "stdout",
          "text": [
            "device cuda , num_workers 2\n"
          ]
        }
      ]
    },
    {
      "cell_type": "code",
      "source": [
        "# these lists maintain the stats for a batch\n",
        "\n",
        "lossCriterionList = [0];\n",
        "lossMisclassificationList = [0]\n",
        "bIters = [0];"
      ],
      "metadata": {
        "id": "5DywD3MZ2c5a"
      },
      "execution_count": null,
      "outputs": []
    },
    {
      "cell_type": "code",
      "source": [
        "bIters[-1]"
      ],
      "metadata": {
        "colab": {
          "base_uri": "https://localhost:8080/"
        },
        "id": "ijSmBUmHJ8dL",
        "outputId": "157449dc-46c9-45fc-e6df-2ee65d37f338"
      },
      "execution_count": null,
      "outputs": [
        {
          "output_type": "execute_result",
          "data": {
            "text/plain": [
              "0"
            ]
          },
          "metadata": {},
          "execution_count": 22
        }
      ]
    },
    {
      "cell_type": "code",
      "source": [
        "def calculateMisclassificationPercentage(logits, labels):\n",
        "    \"\"\"\n",
        "    Calculate the percentage of misclassification given logits and truth labels.\n",
        "\n",
        "    Parameters:\n",
        "        logits (torch.Tensor): The predicted logits.\n",
        "        labels (torch.Tensor): The ground truth labels.\n",
        "\n",
        "    Returns:\n",
        "        float: The percentage of misclassification.\n",
        "    \"\"\"\n",
        "    _, predicted_indices = torch.max(logits, 1)\n",
        "    _, label_indices = torch.max(labels, 1)\n",
        "\n",
        "    correct = (predicted_indices == label_indices).sum().item()\n",
        "    total = label_indices.size(0)\n",
        "\n",
        "    return ((1 - (correct / total)) * 100)\n"
      ],
      "metadata": {
        "id": "Gr5-G37uqEuW"
      },
      "execution_count": null,
      "outputs": []
    },
    {
      "cell_type": "code",
      "source": [
        "checkpoint_dir = '/content/drive/MyDrive/cropsClassifierCheckpoints'\n",
        "os.makedirs(checkpoint_dir, exist_ok=True)"
      ],
      "metadata": {
        "id": "ZCTRU0baZX_A"
      },
      "execution_count": null,
      "outputs": []
    },
    {
      "cell_type": "code",
      "source": [
        "# Training loop\n",
        "\n",
        "num_epochs = 10\n",
        "resnet.to(DEVICE)\n",
        "\n",
        "for epoch in range(num_epochs):\n",
        "\n",
        "  # checkpoint for saving the model state for resue in case of interruptions\n",
        "    checkpoint = {\n",
        "      'epoch': epoch + 1,\n",
        "      'model_state_dict': resnet.state_dict(),\n",
        "      'optimizer_state_dict': optimizer.state_dict(),\n",
        "      'critTrainingLoss': critTrainingLoss,\n",
        "      'clsfTrainingLoss': clsfTrainingLoss,\n",
        "      'critValidationLoss': critValidationLoss,\n",
        "      'clsfValidationLoss': clsfValidationLoss,\n",
        "      'epochIters': epochIters,\n",
        "      'bIters': bIters,\n",
        "      'lossCriterionList': lossCriterionList,\n",
        "      'lossMisclassificationList': lossMisclassificationList,\n",
        "      }\n",
        "\n",
        "    epochLoss = 0;\n",
        "    batchLoss = 0;\n",
        "\n",
        "    #switching to the training mode, gradients will be kept in record\n",
        "\n",
        "    resnet.train()\n",
        "\n",
        "    for batch , (inputs, labels) in enumerate(train_loader):\n",
        "\n",
        "        inputs = inputs.to(DEVICE)\n",
        "        # putting labels on accelator and converting them to one hot\n",
        "        labels = torch.eye(num_classes)[labels].to(DEVICE)\n",
        "        # [1,3,2,4]\n",
        "\n",
        "        #  [[0,1,0,0],[0,0,0,1],[0,0,1,0],[0,0,0,]]\n",
        "\n",
        "        optimizer.zero_grad()\n",
        "        outputs = resnet(inputs)\n",
        "\n",
        "        loss = criterion(outputs, labels)\n",
        "        loss.backward()\n",
        "        optimizer.step()\n",
        "\n",
        "\n",
        "        # saving batch loss\n",
        "        batchLoss = loss.item()\n",
        "        epochLoss  = epochLoss + batchLoss;\n",
        "        lossCriterionList.append(batchLoss);\n",
        "        bIters.append(bIters[-1]+1);\n",
        "\n",
        "        #calculating the number of correctly classified examples\n",
        "        lossMisclassificationList.append(calculateMisclassificationPercentage(outputs,labels));\n",
        "\n",
        "        print(f'Criterion Loss : {batchLoss} Classification Loss : {lossMisclassificationList[-1]} ')\n",
        "\n",
        "\n",
        "    # plotting performance over entire epoch\n",
        "    plt.plot(bIters, lossCriterionList, color=\"green\", label=\"Criterion Loss\")\n",
        "    plt.plot(bIters, lossMisclassificationList, color=\"blue\", label=\"Classification Loss\")\n",
        "    plt.title(\"Epoch Loss\")\n",
        "    plt.xlabel(\"Iterations\")\n",
        "    plt.ylabel(\"Loss\")\n",
        "    plt.legend()\n",
        "    plt.show()\n",
        "    plt.legend()\n",
        "\n",
        "    #calculating the average loss for the whole epoch\n",
        "    epochLoss = epochLoss/(batch+1);\n",
        "    # saving the criterion loss\n",
        "    critTrainingLoss.append(epochLoss);\n",
        "    #saving the average misclassification loss over whole batch for current epoch\n",
        "    clsfTrainingLoss.append(sum(lossMisclassificationList))\n",
        "    epochIters.append(epoch+1);\n",
        "\n",
        "    #switching to the evaluation mode no gradients graphs computed\n",
        "    resnet.eval()\n",
        "    with torch.no_grad():\n",
        "      # making this list empty after one epcoh\n",
        "        clsfValidationBatch=[]\n",
        "        evalLoss = 0;\n",
        "        for batchIdx ,(inputs, labels) in enumerate(val_loader):\n",
        "\n",
        "            inputs = inputs.to(DEVICE)\n",
        "            labels = torch.eye(num_classes)[labels].to(DEVICE)\n",
        "            outputs = resnet(inputs)\n",
        "\n",
        "            # calculating the criterion loss can miscalssfication loss\n",
        "            loss = criterion(outputs, labels)\n",
        "\n",
        "            evalLoss = evalLoss + loss.item();\n",
        "            clsfValidationBatch.append(calculateMisclassificationPercentage(outputs,labels))\n",
        "\n",
        "\n",
        "\n",
        "        evalLoss = evalLoss / (batchIdx+1)\n",
        "        critValidationLoss.append(evalLoss);\n",
        "        clsfValidationLoss.append(sum(clsfValidationBatch)/(batchIdx+1));\n",
        "\n",
        "\n",
        "        # shows how well model performed based on the criterion loss\n",
        "        plt.title(\"Criterion Loss\")\n",
        "        plt.plot(epochIters, critTrainingLoss, color=\"blue\", label=\"Training Loss\")\n",
        "        plt.plot(epochIters, critValidationLoss, color=\"red\", label=\"Validation Loss\")\n",
        "        plt.xlabel(\"Iterations\")\n",
        "        plt.ylabel(\"Loss\")\n",
        "        plt.legend()\n",
        "        plt.show()\n",
        "\n",
        "        # shows how well model performed based on the misclassfication\n",
        "        plt.title(\"Misclassification Loss\")\n",
        "        plt.plot(epochIters, clsfTrainingLoss, color=\"blue\", label=\"Training Loss\")\n",
        "        plt.plot(epochIters, clsfValidationLoss, color=\"red\", label=\"Validation Loss\")\n",
        "        plt.xlabel(\"Epochs\")\n",
        "        plt.ylabel(\"Mislcassifications\")\n",
        "        plt.legend()\n",
        "        plt.show()\n",
        "\n",
        "        print(f'Epoch {epoch+1}/{num_epochs},Training Loss {critTrainingLoss[-1]:.4f}, Validation Loss {critValidationLoss[-1]:.4f}\\nTraining Misclass {clsfTrainingLoss[-1]:.4f}, Validation Misclass {clsfValidationLoss[-1]:.4f}')\n",
        "\n",
        "    # saving checkpoint\n",
        "    currentTime = datetime.datetime.now()\n",
        "\n",
        "    timeStamp = currentTime.strftime(\"%Y%m%d_%H%M%S\")\n",
        "    checkpoint_filename = f'chkpnt_{timeStamp}_{clsfValidationLoss[-1]}.pth'\n",
        "    checkpoint_path = os.path.join(checkpoint_dir, checkpoint_filename)\n",
        "    torch.save(checkpoint, checkpoint_path)\n",
        "\n",
        "\n"
      ],
      "metadata": {
        "id": "xjIRy3f5LDUH",
        "colab": {
          "base_uri": "https://localhost:8080/",
          "height": 1000
        },
        "outputId": "01be1731-c6c6-4987-c654-6496551d6327"
      },
      "execution_count": null,
      "outputs": [
        {
          "metadata": {
            "tags": null
          },
          "name": "stdout",
          "output_type": "stream",
          "text": [
            "Criterion Loss : 0.4227258861064911 Classification Loss : 16.40625 \n",
            "Criterion Loss : 0.4281081557273865 Classification Loss : 12.5 \n",
            "Criterion Loss : 0.4155316650867462 Classification Loss : 13.28125 \n",
            "Criterion Loss : 0.4100833535194397 Classification Loss : 12.5 \n",
            "Criterion Loss : 0.4771312475204468 Classification Loss : 16.40625 \n",
            "Criterion Loss : 0.3535844683647156 Classification Loss : 11.71875 \n",
            "Criterion Loss : 0.3607342839241028 Classification Loss : 11.71875 \n",
            "Criterion Loss : 0.4587256908416748 Classification Loss : 14.84375 \n",
            "Criterion Loss : 0.4126465916633606 Classification Loss : 10.15625 \n",
            "Criterion Loss : 0.4611843228340149 Classification Loss : 15.625 \n",
            "Criterion Loss : 0.3992947041988373 Classification Loss : 14.84375 \n",
            "Criterion Loss : 0.4778175354003906 Classification Loss : 17.1875 \n",
            "Criterion Loss : 0.5181800127029419 Classification Loss : 17.96875 \n",
            "Criterion Loss : 0.4610219895839691 Classification Loss : 17.96875 \n",
            "Criterion Loss : 0.4611828029155731 Classification Loss : 14.0625 \n",
            "Criterion Loss : 0.401522696018219 Classification Loss : 13.28125 \n",
            "Criterion Loss : 0.434883713722229 Classification Loss : 14.0625 \n",
            "Criterion Loss : 0.37917113304138184 Classification Loss : 12.5 \n",
            "Criterion Loss : 0.42827802896499634 Classification Loss : 17.96875 \n",
            "Criterion Loss : 0.48245012760162354 Classification Loss : 14.0625 \n",
            "Criterion Loss : 0.42502689361572266 Classification Loss : 12.5 \n",
            "Criterion Loss : 0.4216439127922058 Classification Loss : 15.625 \n",
            "Criterion Loss : 0.4352057874202728 Classification Loss : 15.625 \n",
            "Criterion Loss : 0.43659093976020813 Classification Loss : 18.75 \n",
            "Criterion Loss : 0.3230033218860626 Classification Loss : 7.03125 \n",
            "Criterion Loss : 0.4320950210094452 Classification Loss : 13.28125 \n",
            "Criterion Loss : 0.454714298248291 Classification Loss : 14.84375 \n",
            "Criterion Loss : 0.4468344449996948 Classification Loss : 15.625 \n",
            "Criterion Loss : 0.44863981008529663 Classification Loss : 21.09375 \n",
            "Criterion Loss : 0.502470076084137 Classification Loss : 18.75 \n",
            "Criterion Loss : 0.41747066378593445 Classification Loss : 16.40625 \n",
            "Criterion Loss : 0.4564334750175476 Classification Loss : 17.1875 \n",
            "Criterion Loss : 0.3610146641731262 Classification Loss : 10.15625 \n",
            "Criterion Loss : 0.3673938512802124 Classification Loss : 11.71875 \n",
            "Criterion Loss : 0.28044044971466064 Classification Loss : 7.03125 \n",
            "Criterion Loss : 0.4471668004989624 Classification Loss : 14.84375 \n",
            "Criterion Loss : 0.35250648856163025 Classification Loss : 12.5 \n",
            "Criterion Loss : 0.32570651173591614 Classification Loss : 9.375 \n",
            "Criterion Loss : 0.4208342134952545 Classification Loss : 14.0625 \n",
            "Criterion Loss : 0.394939124584198 Classification Loss : 10.15625 \n",
            "Criterion Loss : 0.41793927550315857 Classification Loss : 12.5 \n",
            "Criterion Loss : 0.49353256821632385 Classification Loss : 17.96875 \n",
            "Criterion Loss : 0.4212079346179962 Classification Loss : 12.5 \n",
            "Criterion Loss : 0.409324049949646 Classification Loss : 14.0625 \n",
            "Criterion Loss : 0.38958731293678284 Classification Loss : 11.71875 \n",
            "Criterion Loss : 0.39674341678619385 Classification Loss : 12.5 \n",
            "Criterion Loss : 0.3872523903846741 Classification Loss : 14.84375 \n",
            "Criterion Loss : 0.4085055887699127 Classification Loss : 15.625 \n",
            "Criterion Loss : 0.3761976361274719 Classification Loss : 12.5 \n",
            "Criterion Loss : 0.4802490174770355 Classification Loss : 16.40625 \n",
            "Criterion Loss : 0.4214586317539215 Classification Loss : 17.1875 \n",
            "Criterion Loss : 0.4572851061820984 Classification Loss : 15.625 \n",
            "Criterion Loss : 0.4937736392021179 Classification Loss : 17.96875 \n",
            "Criterion Loss : 0.3652735948562622 Classification Loss : 11.71875 \n",
            "Criterion Loss : 0.3193061649799347 Classification Loss : 12.5 \n",
            "Criterion Loss : 0.3737395405769348 Classification Loss : 13.28125 \n",
            "Criterion Loss : 0.4885971248149872 Classification Loss : 17.96875 \n",
            "Criterion Loss : 0.4178312122821808 Classification Loss : 14.0625 \n",
            "Criterion Loss : 0.3771343231201172 Classification Loss : 10.9375 \n",
            "Criterion Loss : 0.391735315322876 Classification Loss : 10.15625 \n",
            "Criterion Loss : 0.3877595365047455 Classification Loss : 10.9375 \n",
            "Criterion Loss : 0.4065914750099182 Classification Loss : 11.71875 \n",
            "Criterion Loss : 0.5229455232620239 Classification Loss : 17.96875 \n",
            "Criterion Loss : 0.41038569808006287 Classification Loss : 14.0625 \n",
            "Criterion Loss : 0.4006691873073578 Classification Loss : 14.0625 \n",
            "Criterion Loss : 0.4569491147994995 Classification Loss : 13.28125 \n",
            "Criterion Loss : 0.4299522638320923 Classification Loss : 14.0625 \n",
            "Criterion Loss : 0.43692341446876526 Classification Loss : 14.0625 \n",
            "Criterion Loss : 0.49065977334976196 Classification Loss : 18.75 \n",
            "Criterion Loss : 0.3907524049282074 Classification Loss : 13.28125 \n",
            "Criterion Loss : 0.5120648145675659 Classification Loss : 17.1875 \n",
            "Criterion Loss : 0.4175848662853241 Classification Loss : 15.625 \n",
            "Criterion Loss : 0.4570978879928589 Classification Loss : 14.0625 \n",
            "Criterion Loss : 0.4836624562740326 Classification Loss : 13.28125 \n",
            "Criterion Loss : 0.35057324171066284 Classification Loss : 12.5 \n",
            "Criterion Loss : 0.4155157506465912 Classification Loss : 13.28125 \n",
            "Criterion Loss : 0.4318595826625824 Classification Loss : 17.96875 \n",
            "Criterion Loss : 0.39940792322158813 Classification Loss : 14.84375 \n",
            "Criterion Loss : 0.39014285802841187 Classification Loss : 15.625 \n",
            "Criterion Loss : 0.44881266355514526 Classification Loss : 14.84375 \n",
            "Criterion Loss : 0.31836187839508057 Classification Loss : 10.15625 \n",
            "Criterion Loss : 0.48150888085365295 Classification Loss : 17.1875 \n",
            "Criterion Loss : 0.3468794822692871 Classification Loss : 10.15625 \n",
            "Criterion Loss : 0.4951508045196533 Classification Loss : 17.1875 \n",
            "Criterion Loss : 0.377643346786499 Classification Loss : 10.9375 \n",
            "Criterion Loss : 0.42285364866256714 Classification Loss : 16.40625 \n",
            "Criterion Loss : 0.3868168592453003 Classification Loss : 10.15625 \n",
            "Criterion Loss : 0.3657078742980957 Classification Loss : 10.15625 \n",
            "Criterion Loss : 0.4742475152015686 Classification Loss : 14.84375 \n",
            "Criterion Loss : 0.5069687366485596 Classification Loss : 18.75 \n",
            "Criterion Loss : 0.37039023637771606 Classification Loss : 12.5 \n",
            "Criterion Loss : 0.4826350808143616 Classification Loss : 16.40625 \n",
            "Criterion Loss : 0.5705057382583618 Classification Loss : 21.09375 \n",
            "Criterion Loss : 0.4112667739391327 Classification Loss : 11.71875 \n",
            "Criterion Loss : 0.42383286356925964 Classification Loss : 13.28125 \n",
            "Criterion Loss : 0.501145601272583 Classification Loss : 17.96875 \n",
            "Criterion Loss : 0.3858509063720703 Classification Loss : 10.15625 \n",
            "Criterion Loss : 0.4330862760543823 Classification Loss : 20.3125 \n",
            "Criterion Loss : 0.415759414434433 Classification Loss : 13.28125 \n",
            "Criterion Loss : 0.4223730266094208 Classification Loss : 15.625 \n",
            "Criterion Loss : 0.47188130021095276 Classification Loss : 20.3125 \n",
            "Criterion Loss : 0.46244561672210693 Classification Loss : 15.625 \n",
            "Criterion Loss : 0.38858628273010254 Classification Loss : 10.9375 \n",
            "Criterion Loss : 0.4872850775718689 Classification Loss : 17.1875 \n",
            "Criterion Loss : 0.4226662516593933 Classification Loss : 13.28125 \n",
            "Criterion Loss : 0.3921026587486267 Classification Loss : 13.28125 \n",
            "Criterion Loss : 0.49914005398750305 Classification Loss : 17.1875 \n",
            "Criterion Loss : 0.5389639139175415 Classification Loss : 21.09375 \n",
            "Criterion Loss : 0.4735540747642517 Classification Loss : 13.28125 \n",
            "Criterion Loss : 0.3958316445350647 Classification Loss : 16.40625 \n",
            "Criterion Loss : 0.4106057286262512 Classification Loss : 14.0625 \n",
            "Criterion Loss : 0.46428343653678894 Classification Loss : 16.40625 \n",
            "Criterion Loss : 0.3712811768054962 Classification Loss : 11.71875 \n",
            "Criterion Loss : 0.43733519315719604 Classification Loss : 17.1875 \n",
            "Criterion Loss : 0.41977599263191223 Classification Loss : 13.28125 \n",
            "Criterion Loss : 0.5196527242660522 Classification Loss : 21.09375 \n",
            "Criterion Loss : 0.42925482988357544 Classification Loss : 14.84375 \n",
            "Criterion Loss : 0.3879058063030243 Classification Loss : 13.28125 \n",
            "Criterion Loss : 0.4790794253349304 Classification Loss : 15.625 \n",
            "Criterion Loss : 0.34451237320899963 Classification Loss : 10.15625 \n",
            "Criterion Loss : 0.4881681203842163 Classification Loss : 14.0625 \n",
            "Criterion Loss : 0.43871504068374634 Classification Loss : 13.28125 \n",
            "Criterion Loss : 0.4525020122528076 Classification Loss : 17.1875 \n",
            "Criterion Loss : 0.2687893211841583 Classification Loss : 6.25 \n",
            "Criterion Loss : 0.35829946398735046 Classification Loss : 9.375 \n",
            "Criterion Loss : 0.42263391613960266 Classification Loss : 13.28125 \n",
            "Criterion Loss : 0.43498319387435913 Classification Loss : 14.0625 \n",
            "Criterion Loss : 0.4514833390712738 Classification Loss : 15.625 \n",
            "Criterion Loss : 0.4256729185581207 Classification Loss : 17.1875 \n",
            "Criterion Loss : 0.4293125867843628 Classification Loss : 15.625 \n",
            "Criterion Loss : 0.4144975244998932 Classification Loss : 17.96875 \n",
            "Criterion Loss : 0.39454734325408936 Classification Loss : 13.28125 \n",
            "Criterion Loss : 0.43414556980133057 Classification Loss : 14.84375 \n",
            "Criterion Loss : 0.38545650243759155 Classification Loss : 14.0625 \n",
            "Criterion Loss : 0.4662116467952728 Classification Loss : 16.40625 \n",
            "Criterion Loss : 0.32593226432800293 Classification Loss : 12.5 \n",
            "Criterion Loss : 0.4008878469467163 Classification Loss : 14.0625 \n",
            "Criterion Loss : 0.3595554828643799 Classification Loss : 13.28125 \n",
            "Criterion Loss : 0.35977333784103394 Classification Loss : 10.15625 \n",
            "Criterion Loss : 0.4358205795288086 Classification Loss : 14.0625 \n",
            "Criterion Loss : 0.4103474020957947 Classification Loss : 16.40625 \n",
            "Criterion Loss : 0.37605148553848267 Classification Loss : 10.9375 \n",
            "Criterion Loss : 0.4522770047187805 Classification Loss : 18.75 \n",
            "Criterion Loss : 0.39540690183639526 Classification Loss : 14.0625 \n",
            "Criterion Loss : 0.49849647283554077 Classification Loss : 14.84375 \n",
            "Criterion Loss : 0.4112370014190674 Classification Loss : 14.0625 \n",
            "Criterion Loss : 0.38280007243156433 Classification Loss : 14.84375 \n",
            "Criterion Loss : 0.4186418652534485 Classification Loss : 14.84375 \n",
            "Criterion Loss : 0.3929970860481262 Classification Loss : 10.9375 \n",
            "Criterion Loss : 0.390682578086853 Classification Loss : 10.15625 \n",
            "Criterion Loss : 0.4951390027999878 Classification Loss : 17.96875 \n",
            "Criterion Loss : 0.3646560311317444 Classification Loss : 14.84375 \n",
            "Criterion Loss : 0.48063719272613525 Classification Loss : 19.53125 \n",
            "Criterion Loss : 0.429828941822052 Classification Loss : 10.9375 \n",
            "Criterion Loss : 0.3842466473579407 Classification Loss : 12.5 \n",
            "Criterion Loss : 0.4451759457588196 Classification Loss : 16.40625 \n",
            "Criterion Loss : 0.46145033836364746 Classification Loss : 17.1875 \n",
            "Criterion Loss : 0.5047090649604797 Classification Loss : 18.867924528301884 \n"
          ]
        },
        {
          "data": {
            "image/png": "[encoded data removed]",
            "text/plain": [
              "<Figure size 640x480 with 1 Axes>"
            ]
          },
          "metadata": {},
          "output_type": "display_data"
        },
        {
          "metadata": {
            "tags": null
          },
          "name": "stderr",
          "output_type": "stream",
          "text": [
            "WARNING:matplotlib.legend:No artists with labels found to put in legend.  Note that artists whose label start with an underscore are ignored when legend() is called with no argument.\n"
          ]
        },
        {
          "output_type": "error",
          "ename": "KeyboardInterrupt",
          "evalue": "ignored",
          "traceback": [
            "\u001b[0;31m---------------------------------------------------------------------------\u001b[0m",
            "\u001b[0;31mKeyboardInterrupt\u001b[0m                         Traceback (most recent call last)",
            "\u001b[0;32m<ipython-input-25-66bab903aca6>\u001b[0m in \u001b[0;36m<cell line: 6>\u001b[0;34m()\u001b[0m\n\u001b[1;32m     81\u001b[0m         \u001b[0mclsfValidationBatch\u001b[0m\u001b[0;34m=\u001b[0m\u001b[0;34m[\u001b[0m\u001b[0;34m]\u001b[0m\u001b[0;34m\u001b[0m\u001b[0;34m\u001b[0m\u001b[0m\n\u001b[1;32m     82\u001b[0m         \u001b[0mevalLoss\u001b[0m \u001b[0;34m=\u001b[0m \u001b[0;36m0\u001b[0m\u001b[0;34m;\u001b[0m\u001b[0;34m\u001b[0m\u001b[0;34m\u001b[0m\u001b[0m\n\u001b[0;32m---> 83\u001b[0;31m         \u001b[0;32mfor\u001b[0m \u001b[0mbatchIdx\u001b[0m \u001b[0;34m,\u001b[0m\u001b[0;34m(\u001b[0m\u001b[0minputs\u001b[0m\u001b[0;34m,\u001b[0m \u001b[0mlabels\u001b[0m\u001b[0;34m)\u001b[0m \u001b[0;32min\u001b[0m \u001b[0menumerate\u001b[0m\u001b[0;34m(\u001b[0m\u001b[0mval_loader\u001b[0m\u001b[0;34m)\u001b[0m\u001b[0;34m:\u001b[0m\u001b[0;34m\u001b[0m\u001b[0;34m\u001b[0m\u001b[0m\n\u001b[0m\u001b[1;32m     84\u001b[0m \u001b[0;34m\u001b[0m\u001b[0m\n\u001b[1;32m     85\u001b[0m             \u001b[0minputs\u001b[0m \u001b[0;34m=\u001b[0m \u001b[0minputs\u001b[0m\u001b[0;34m.\u001b[0m\u001b[0mto\u001b[0m\u001b[0;34m(\u001b[0m\u001b[0mDEVICE\u001b[0m\u001b[0;34m)\u001b[0m\u001b[0;34m\u001b[0m\u001b[0;34m\u001b[0m\u001b[0m\n",
            "\u001b[0;32m/usr/local/lib/python3.10/dist-packages/torch/utils/data/dataloader.py\u001b[0m in \u001b[0;36m__next__\u001b[0;34m(self)\u001b[0m\n\u001b[1;32m    628\u001b[0m                 \u001b[0;31m# TODO(https://github.com/pytorch/pytorch/issues/76750)\u001b[0m\u001b[0;34m\u001b[0m\u001b[0;34m\u001b[0m\u001b[0m\n\u001b[1;32m    629\u001b[0m                 \u001b[0mself\u001b[0m\u001b[0;34m.\u001b[0m\u001b[0m_reset\u001b[0m\u001b[0;34m(\u001b[0m\u001b[0;34m)\u001b[0m  \u001b[0;31m# type: ignore[call-arg]\u001b[0m\u001b[0;34m\u001b[0m\u001b[0;34m\u001b[0m\u001b[0m\n\u001b[0;32m--> 630\u001b[0;31m             \u001b[0mdata\u001b[0m \u001b[0;34m=\u001b[0m \u001b[0mself\u001b[0m\u001b[0;34m.\u001b[0m\u001b[0m_next_data\u001b[0m\u001b[0;34m(\u001b[0m\u001b[0;34m)\u001b[0m\u001b[0;34m\u001b[0m\u001b[0;34m\u001b[0m\u001b[0m\n\u001b[0m\u001b[1;32m    631\u001b[0m             \u001b[0mself\u001b[0m\u001b[0;34m.\u001b[0m\u001b[0m_num_yielded\u001b[0m \u001b[0;34m+=\u001b[0m \u001b[0;36m1\u001b[0m\u001b[0;34m\u001b[0m\u001b[0;34m\u001b[0m\u001b[0m\n\u001b[1;32m    632\u001b[0m             \u001b[0;32mif\u001b[0m \u001b[0mself\u001b[0m\u001b[0;34m.\u001b[0m\u001b[0m_dataset_kind\u001b[0m \u001b[0;34m==\u001b[0m \u001b[0m_DatasetKind\u001b[0m\u001b[0;34m.\u001b[0m\u001b[0mIterable\u001b[0m \u001b[0;32mand\u001b[0m\u001b[0;31m \u001b[0m\u001b[0;31m\\\u001b[0m\u001b[0;34m\u001b[0m\u001b[0;34m\u001b[0m\u001b[0m\n",
            "\u001b[0;32m/usr/local/lib/python3.10/dist-packages/torch/utils/data/dataloader.py\u001b[0m in \u001b[0;36m_next_data\u001b[0;34m(self)\u001b[0m\n\u001b[1;32m   1326\u001b[0m \u001b[0;34m\u001b[0m\u001b[0m\n\u001b[1;32m   1327\u001b[0m             \u001b[0;32massert\u001b[0m \u001b[0;32mnot\u001b[0m \u001b[0mself\u001b[0m\u001b[0;34m.\u001b[0m\u001b[0m_shutdown\u001b[0m \u001b[0;32mand\u001b[0m \u001b[0mself\u001b[0m\u001b[0;34m.\u001b[0m\u001b[0m_tasks_outstanding\u001b[0m \u001b[0;34m>\u001b[0m \u001b[0;36m0\u001b[0m\u001b[0;34m\u001b[0m\u001b[0;34m\u001b[0m\u001b[0m\n\u001b[0;32m-> 1328\u001b[0;31m             \u001b[0midx\u001b[0m\u001b[0;34m,\u001b[0m \u001b[0mdata\u001b[0m \u001b[0;34m=\u001b[0m \u001b[0mself\u001b[0m\u001b[0;34m.\u001b[0m\u001b[0m_get_data\u001b[0m\u001b[0;34m(\u001b[0m\u001b[0;34m)\u001b[0m\u001b[0;34m\u001b[0m\u001b[0;34m\u001b[0m\u001b[0m\n\u001b[0m\u001b[1;32m   1329\u001b[0m             \u001b[0mself\u001b[0m\u001b[0;34m.\u001b[0m\u001b[0m_tasks_outstanding\u001b[0m \u001b[0;34m-=\u001b[0m \u001b[0;36m1\u001b[0m\u001b[0;34m\u001b[0m\u001b[0;34m\u001b[0m\u001b[0m\n\u001b[1;32m   1330\u001b[0m             \u001b[0;32mif\u001b[0m \u001b[0mself\u001b[0m\u001b[0;34m.\u001b[0m\u001b[0m_dataset_kind\u001b[0m \u001b[0;34m==\u001b[0m \u001b[0m_DatasetKind\u001b[0m\u001b[0;34m.\u001b[0m\u001b[0mIterable\u001b[0m\u001b[0;34m:\u001b[0m\u001b[0;34m\u001b[0m\u001b[0;34m\u001b[0m\u001b[0m\n",
            "\u001b[0;32m/usr/local/lib/python3.10/dist-packages/torch/utils/data/dataloader.py\u001b[0m in \u001b[0;36m_get_data\u001b[0;34m(self)\u001b[0m\n\u001b[1;32m   1292\u001b[0m         \u001b[0;32melse\u001b[0m\u001b[0;34m:\u001b[0m\u001b[0;34m\u001b[0m\u001b[0;34m\u001b[0m\u001b[0m\n\u001b[1;32m   1293\u001b[0m             \u001b[0;32mwhile\u001b[0m \u001b[0;32mTrue\u001b[0m\u001b[0;34m:\u001b[0m\u001b[0;34m\u001b[0m\u001b[0;34m\u001b[0m\u001b[0m\n\u001b[0;32m-> 1294\u001b[0;31m                 \u001b[0msuccess\u001b[0m\u001b[0;34m,\u001b[0m \u001b[0mdata\u001b[0m \u001b[0;34m=\u001b[0m \u001b[0mself\u001b[0m\u001b[0;34m.\u001b[0m\u001b[0m_try_get_data\u001b[0m\u001b[0;34m(\u001b[0m\u001b[0;34m)\u001b[0m\u001b[0;34m\u001b[0m\u001b[0;34m\u001b[0m\u001b[0m\n\u001b[0m\u001b[1;32m   1295\u001b[0m                 \u001b[0;32mif\u001b[0m \u001b[0msuccess\u001b[0m\u001b[0;34m:\u001b[0m\u001b[0;34m\u001b[0m\u001b[0;34m\u001b[0m\u001b[0m\n\u001b[1;32m   1296\u001b[0m                     \u001b[0;32mreturn\u001b[0m \u001b[0mdata\u001b[0m\u001b[0;34m\u001b[0m\u001b[0;34m\u001b[0m\u001b[0m\n",
            "\u001b[0;32m/usr/local/lib/python3.10/dist-packages/torch/utils/data/dataloader.py\u001b[0m in \u001b[0;36m_try_get_data\u001b[0;34m(self, timeout)\u001b[0m\n\u001b[1;32m   1130\u001b[0m         \u001b[0;31m#   (bool: whether successfully get data, any: data if successful else None)\u001b[0m\u001b[0;34m\u001b[0m\u001b[0;34m\u001b[0m\u001b[0m\n\u001b[1;32m   1131\u001b[0m         \u001b[0;32mtry\u001b[0m\u001b[0;34m:\u001b[0m\u001b[0;34m\u001b[0m\u001b[0;34m\u001b[0m\u001b[0m\n\u001b[0;32m-> 1132\u001b[0;31m             \u001b[0mdata\u001b[0m \u001b[0;34m=\u001b[0m \u001b[0mself\u001b[0m\u001b[0;34m.\u001b[0m\u001b[0m_data_queue\u001b[0m\u001b[0;34m.\u001b[0m\u001b[0mget\u001b[0m\u001b[0;34m(\u001b[0m\u001b[0mtimeout\u001b[0m\u001b[0;34m=\u001b[0m\u001b[0mtimeout\u001b[0m\u001b[0;34m)\u001b[0m\u001b[0;34m\u001b[0m\u001b[0;34m\u001b[0m\u001b[0m\n\u001b[0m\u001b[1;32m   1133\u001b[0m             \u001b[0;32mreturn\u001b[0m \u001b[0;34m(\u001b[0m\u001b[0;32mTrue\u001b[0m\u001b[0;34m,\u001b[0m \u001b[0mdata\u001b[0m\u001b[0;34m)\u001b[0m\u001b[0;34m\u001b[0m\u001b[0;34m\u001b[0m\u001b[0m\n\u001b[1;32m   1134\u001b[0m         \u001b[0;32mexcept\u001b[0m \u001b[0mException\u001b[0m \u001b[0;32mas\u001b[0m \u001b[0me\u001b[0m\u001b[0;34m:\u001b[0m\u001b[0;34m\u001b[0m\u001b[0;34m\u001b[0m\u001b[0m\n",
            "\u001b[0;32m/usr/lib/python3.10/multiprocessing/queues.py\u001b[0m in \u001b[0;36mget\u001b[0;34m(self, block, timeout)\u001b[0m\n\u001b[1;32m    111\u001b[0m                 \u001b[0;32mif\u001b[0m \u001b[0mblock\u001b[0m\u001b[0;34m:\u001b[0m\u001b[0;34m\u001b[0m\u001b[0;34m\u001b[0m\u001b[0m\n\u001b[1;32m    112\u001b[0m                     \u001b[0mtimeout\u001b[0m \u001b[0;34m=\u001b[0m \u001b[0mdeadline\u001b[0m \u001b[0;34m-\u001b[0m \u001b[0mtime\u001b[0m\u001b[0;34m.\u001b[0m\u001b[0mmonotonic\u001b[0m\u001b[0;34m(\u001b[0m\u001b[0;34m)\u001b[0m\u001b[0;34m\u001b[0m\u001b[0;34m\u001b[0m\u001b[0m\n\u001b[0;32m--> 113\u001b[0;31m                     \u001b[0;32mif\u001b[0m \u001b[0;32mnot\u001b[0m \u001b[0mself\u001b[0m\u001b[0;34m.\u001b[0m\u001b[0m_poll\u001b[0m\u001b[0;34m(\u001b[0m\u001b[0mtimeout\u001b[0m\u001b[0;34m)\u001b[0m\u001b[0;34m:\u001b[0m\u001b[0;34m\u001b[0m\u001b[0;34m\u001b[0m\u001b[0m\n\u001b[0m\u001b[1;32m    114\u001b[0m                         \u001b[0;32mraise\u001b[0m \u001b[0mEmpty\u001b[0m\u001b[0;34m\u001b[0m\u001b[0;34m\u001b[0m\u001b[0m\n\u001b[1;32m    115\u001b[0m                 \u001b[0;32melif\u001b[0m \u001b[0;32mnot\u001b[0m \u001b[0mself\u001b[0m\u001b[0;34m.\u001b[0m\u001b[0m_poll\u001b[0m\u001b[0;34m(\u001b[0m\u001b[0;34m)\u001b[0m\u001b[0;34m:\u001b[0m\u001b[0;34m\u001b[0m\u001b[0;34m\u001b[0m\u001b[0m\n",
            "\u001b[0;32m/usr/lib/python3.10/multiprocessing/connection.py\u001b[0m in \u001b[0;36mpoll\u001b[0;34m(self, timeout)\u001b[0m\n\u001b[1;32m    255\u001b[0m         \u001b[0mself\u001b[0m\u001b[0;34m.\u001b[0m\u001b[0m_check_closed\u001b[0m\u001b[0;34m(\u001b[0m\u001b[0;34m)\u001b[0m\u001b[0;34m\u001b[0m\u001b[0;34m\u001b[0m\u001b[0m\n\u001b[1;32m    256\u001b[0m         \u001b[0mself\u001b[0m\u001b[0;34m.\u001b[0m\u001b[0m_check_readable\u001b[0m\u001b[0;34m(\u001b[0m\u001b[0;34m)\u001b[0m\u001b[0;34m\u001b[0m\u001b[0;34m\u001b[0m\u001b[0m\n\u001b[0;32m--> 257\u001b[0;31m         \u001b[0;32mreturn\u001b[0m \u001b[0mself\u001b[0m\u001b[0;34m.\u001b[0m\u001b[0m_poll\u001b[0m\u001b[0;34m(\u001b[0m\u001b[0mtimeout\u001b[0m\u001b[0;34m)\u001b[0m\u001b[0;34m\u001b[0m\u001b[0;34m\u001b[0m\u001b[0m\n\u001b[0m\u001b[1;32m    258\u001b[0m \u001b[0;34m\u001b[0m\u001b[0m\n\u001b[1;32m    259\u001b[0m     \u001b[0;32mdef\u001b[0m \u001b[0m__enter__\u001b[0m\u001b[0;34m(\u001b[0m\u001b[0mself\u001b[0m\u001b[0;34m)\u001b[0m\u001b[0;34m:\u001b[0m\u001b[0;34m\u001b[0m\u001b[0;34m\u001b[0m\u001b[0m\n",
            "\u001b[0;32m/usr/lib/python3.10/multiprocessing/connection.py\u001b[0m in \u001b[0;36m_poll\u001b[0;34m(self, timeout)\u001b[0m\n\u001b[1;32m    422\u001b[0m \u001b[0;34m\u001b[0m\u001b[0m\n\u001b[1;32m    423\u001b[0m     \u001b[0;32mdef\u001b[0m \u001b[0m_poll\u001b[0m\u001b[0;34m(\u001b[0m\u001b[0mself\u001b[0m\u001b[0;34m,\u001b[0m \u001b[0mtimeout\u001b[0m\u001b[0;34m)\u001b[0m\u001b[0;34m:\u001b[0m\u001b[0;34m\u001b[0m\u001b[0;34m\u001b[0m\u001b[0m\n\u001b[0;32m--> 424\u001b[0;31m         \u001b[0mr\u001b[0m \u001b[0;34m=\u001b[0m \u001b[0mwait\u001b[0m\u001b[0;34m(\u001b[0m\u001b[0;34m[\u001b[0m\u001b[0mself\u001b[0m\u001b[0;34m]\u001b[0m\u001b[0;34m,\u001b[0m \u001b[0mtimeout\u001b[0m\u001b[0;34m)\u001b[0m\u001b[0;34m\u001b[0m\u001b[0;34m\u001b[0m\u001b[0m\n\u001b[0m\u001b[1;32m    425\u001b[0m         \u001b[0;32mreturn\u001b[0m \u001b[0mbool\u001b[0m\u001b[0;34m(\u001b[0m\u001b[0mr\u001b[0m\u001b[0;34m)\u001b[0m\u001b[0;34m\u001b[0m\u001b[0;34m\u001b[0m\u001b[0m\n\u001b[1;32m    426\u001b[0m \u001b[0;34m\u001b[0m\u001b[0m\n",
            "\u001b[0;32m/usr/lib/python3.10/multiprocessing/connection.py\u001b[0m in \u001b[0;36mwait\u001b[0;34m(object_list, timeout)\u001b[0m\n\u001b[1;32m    929\u001b[0m \u001b[0;34m\u001b[0m\u001b[0m\n\u001b[1;32m    930\u001b[0m             \u001b[0;32mwhile\u001b[0m \u001b[0;32mTrue\u001b[0m\u001b[0;34m:\u001b[0m\u001b[0;34m\u001b[0m\u001b[0;34m\u001b[0m\u001b[0m\n\u001b[0;32m--> 931\u001b[0;31m                 \u001b[0mready\u001b[0m \u001b[0;34m=\u001b[0m \u001b[0mselector\u001b[0m\u001b[0;34m.\u001b[0m\u001b[0mselect\u001b[0m\u001b[0;34m(\u001b[0m\u001b[0mtimeout\u001b[0m\u001b[0;34m)\u001b[0m\u001b[0;34m\u001b[0m\u001b[0;34m\u001b[0m\u001b[0m\n\u001b[0m\u001b[1;32m    932\u001b[0m                 \u001b[0;32mif\u001b[0m \u001b[0mready\u001b[0m\u001b[0;34m:\u001b[0m\u001b[0;34m\u001b[0m\u001b[0;34m\u001b[0m\u001b[0m\n\u001b[1;32m    933\u001b[0m                     \u001b[0;32mreturn\u001b[0m \u001b[0;34m[\u001b[0m\u001b[0mkey\u001b[0m\u001b[0;34m.\u001b[0m\u001b[0mfileobj\u001b[0m \u001b[0;32mfor\u001b[0m \u001b[0;34m(\u001b[0m\u001b[0mkey\u001b[0m\u001b[0;34m,\u001b[0m \u001b[0mevents\u001b[0m\u001b[0;34m)\u001b[0m \u001b[0;32min\u001b[0m \u001b[0mready\u001b[0m\u001b[0;34m]\u001b[0m\u001b[0;34m\u001b[0m\u001b[0;34m\u001b[0m\u001b[0m\n",
            "\u001b[0;32m/usr/lib/python3.10/selectors.py\u001b[0m in \u001b[0;36mselect\u001b[0;34m(self, timeout)\u001b[0m\n\u001b[1;32m    414\u001b[0m         \u001b[0mready\u001b[0m \u001b[0;34m=\u001b[0m \u001b[0;34m[\u001b[0m\u001b[0;34m]\u001b[0m\u001b[0;34m\u001b[0m\u001b[0;34m\u001b[0m\u001b[0m\n\u001b[1;32m    415\u001b[0m         \u001b[0;32mtry\u001b[0m\u001b[0;34m:\u001b[0m\u001b[0;34m\u001b[0m\u001b[0;34m\u001b[0m\u001b[0m\n\u001b[0;32m--> 416\u001b[0;31m             \u001b[0mfd_event_list\u001b[0m \u001b[0;34m=\u001b[0m \u001b[0mself\u001b[0m\u001b[0;34m.\u001b[0m\u001b[0m_selector\u001b[0m\u001b[0;34m.\u001b[0m\u001b[0mpoll\u001b[0m\u001b[0;34m(\u001b[0m\u001b[0mtimeout\u001b[0m\u001b[0;34m)\u001b[0m\u001b[0;34m\u001b[0m\u001b[0;34m\u001b[0m\u001b[0m\n\u001b[0m\u001b[1;32m    417\u001b[0m         \u001b[0;32mexcept\u001b[0m \u001b[0mInterruptedError\u001b[0m\u001b[0;34m:\u001b[0m\u001b[0;34m\u001b[0m\u001b[0;34m\u001b[0m\u001b[0m\n\u001b[1;32m    418\u001b[0m             \u001b[0;32mreturn\u001b[0m \u001b[0mready\u001b[0m\u001b[0;34m\u001b[0m\u001b[0;34m\u001b[0m\u001b[0m\n",
            "\u001b[0;31mKeyboardInterrupt\u001b[0m: "
          ]
        },
        {
          "output_type": "display_data",
          "data": {
            "text/plain": [
              "<Figure size 640x480 with 1 Axes>"
            ],
            "image/png": "[encoded data removed]"
          },
          "metadata": {}
        }
      ]
    },
    {
      "cell_type": "code",
      "source": [
        "checkpoint_filename = f'checkpointLoss{80}.pth'\n",
        "checkpoint_path = os.path.join(checkpoint_dir, checkpoint_filename)\n",
        "torch.save(checkpoint, checkpoint_path)\n"
      ],
      "metadata": {
        "id": "QYl1z0KB9V4_"
      },
      "execution_count": null,
      "outputs": []
    },
    {
      "cell_type": "code",
      "source": [
        "_,indices = torch.max(outputs,1)\n",
        "_,truth = torch.max(labels,1)\n",
        "\n",
        "correct = (indices == truth).sum().item()\n",
        "total = indices.size(0)\n",
        "print(correct/total)"
      ],
      "metadata": {
        "colab": {
          "base_uri": "https://localhost:8080/"
        },
        "id": "KNuzP6Nrcgkr",
        "outputId": "a96a63af-3f04-494b-d64b-2f9cc93502a4"
      },
      "execution_count": null,
      "outputs": [
        {
          "output_type": "stream",
          "name": "stdout",
          "text": [
            "0.8203125\n"
          ]
        }
      ]
    },
    {
      "cell_type": "code",
      "source": [
        "print(loss.tolist())"
      ],
      "metadata": {
        "colab": {
          "base_uri": "https://localhost:8080/"
        },
        "id": "PLbxSAfMeaQf",
        "outputId": "21276a19-2cc4-459f-cc31-1cc7dcd34d8d"
      },
      "execution_count": null,
      "outputs": [
        {
          "output_type": "stream",
          "name": "stdout",
          "text": [
            "0.4767035245895386\n"
          ]
        }
      ]
    },
    {
      "cell_type": "code",
      "source": [
        "print(labels)"
      ],
      "metadata": {
        "colab": {
          "base_uri": "https://localhost:8080/"
        },
        "id": "ic9A26VaVqFn",
        "outputId": "9baaa6c7-ff1b-4c6a-f7d1-ba5d22005fc9"
      },
      "execution_count": null,
      "outputs": [
        {
          "output_type": "stream",
          "name": "stdout",
          "text": [
            "tensor([[0., 0., 0.,  ..., 0., 0., 0.],\n",
            "        [0., 0., 0.,  ..., 0., 0., 0.],\n",
            "        [0., 0., 0.,  ..., 0., 1., 0.],\n",
            "        ...,\n",
            "        [0., 0., 0.,  ..., 0., 0., 0.],\n",
            "        [0., 0., 0.,  ..., 0., 0., 0.],\n",
            "        [0., 0., 0.,  ..., 0., 0., 0.]], device='cuda:0')\n"
          ]
        }
      ]
    },
    {
      "cell_type": "code",
      "source": [],
      "metadata": {
        "id": "w0PlXA8AZFNk"
      },
      "execution_count": null,
      "outputs": []
    },
    {
      "cell_type": "code",
      "source": [
        "print(evalLoss)"
      ],
      "metadata": {
        "colab": {
          "base_uri": "https://localhost:8080/",
          "height": 179
        },
        "id": "H5L7YKjBOJ9x",
        "outputId": "bf15bda5-8d26-45e3-9d5b-249372730180"
      },
      "execution_count": null,
      "outputs": [
        {
          "output_type": "error",
          "ename": "NameError",
          "evalue": "ignored",
          "traceback": [
            "\u001b[0;31m---------------------------------------------------------------------------\u001b[0m",
            "\u001b[0;31mNameError\u001b[0m                                 Traceback (most recent call last)",
            "\u001b[0;32m<ipython-input-24-6a489a087ae7>\u001b[0m in \u001b[0;36m<cell line: 1>\u001b[0;34m()\u001b[0m\n\u001b[0;32m----> 1\u001b[0;31m \u001b[0mprint\u001b[0m\u001b[0;34m(\u001b[0m\u001b[0mevalLoss\u001b[0m\u001b[0;34m)\u001b[0m\u001b[0;34m\u001b[0m\u001b[0;34m\u001b[0m\u001b[0m\n\u001b[0m",
            "\u001b[0;31mNameError\u001b[0m: name 'evalLoss' is not defined"
          ]
        }
      ]
    },
    {
      "cell_type": "code",
      "source": [
        "print(trainingLoss,validationLoss)\n"
      ],
      "metadata": {
        "colab": {
          "base_uri": "https://localhost:8080/",
          "height": 179
        },
        "id": "28tjFqu_ShI4",
        "outputId": "18db41c0-cd36-4d86-8c30-9c2acd31d670"
      },
      "execution_count": null,
      "outputs": [
        {
          "output_type": "error",
          "ename": "NameError",
          "evalue": "ignored",
          "traceback": [
            "\u001b[0;31m---------------------------------------------------------------------------\u001b[0m",
            "\u001b[0;31mNameError\u001b[0m                                 Traceback (most recent call last)",
            "\u001b[0;32m<ipython-input-22-3ac9c33d3325>\u001b[0m in \u001b[0;36m<cell line: 1>\u001b[0;34m()\u001b[0m\n\u001b[0;32m----> 1\u001b[0;31m \u001b[0mprint\u001b[0m\u001b[0;34m(\u001b[0m\u001b[0mtrainingLoss\u001b[0m\u001b[0;34m,\u001b[0m\u001b[0mvalidationLoss\u001b[0m\u001b[0;34m)\u001b[0m\u001b[0;34m\u001b[0m\u001b[0;34m\u001b[0m\u001b[0m\n\u001b[0m",
            "\u001b[0;31mNameError\u001b[0m: name 'trainingLoss' is not defined"
          ]
        }
      ]
    },
    {
      "cell_type": "code",
      "source": [],
      "metadata": {
        "id": "OohT1prYK3ZE"
      },
      "execution_count": null,
      "outputs": []
    },
    {
      "cell_type": "code",
      "source": [
        "# Save the fine-tuned model\n",
        "torch.save(resnet.state_dict(), './resnetAcc=98.79.pth')"
      ],
      "metadata": {
        "id": "YGhmtlPnLJyg"
      },
      "execution_count": null,
      "outputs": []
    },
    {
      "cell_type": "code",
      "source": [
        "#testing on some images\n",
        "image = Image.open(\"/content/drive/MyDrive/CCMT_FInal Dataset/Maize_healthy/healthy37_.jpg\")\n",
        "\n",
        "transformToTorch = transforms.Compose([\n",
        "    transforms.Resize((224, 224)),\n",
        "    transforms.ToTensor()\n",
        "])\n",
        "\n",
        "tensorImage = transformToTorch(image).to(DEVICE, dtype=torch.float32)\n",
        "\n",
        "\n"
      ],
      "metadata": {
        "id": "SrOvgOgxc1HK"
      },
      "execution_count": null,
      "outputs": []
    },
    {
      "cell_type": "code",
      "source": [
        "# taking a prediction from the resnet in form of the class name\n",
        "tensorImage = tensorImage.to(DEVICE,dtype=torch.float32); # shifting it to the gpu if available and converting type to float 32\n",
        "batchImage = tensorImage.unsqueeze(0); # adding the dimension for batch;\n",
        "resnet.eval()\n",
        "output = resnet(batchImage)"
      ],
      "metadata": {
        "id": "3PJg-zMBd7Ok"
      },
      "execution_count": null,
      "outputs": []
    },
    {
      "cell_type": "code",
      "source": [
        "print(output)"
      ],
      "metadata": {
        "colab": {
          "base_uri": "https://localhost:8080/"
        },
        "id": "1RR9Ay6igkhe",
        "outputId": "5d3bbb82-86e9-4955-8c9b-112bdc0391f3"
      },
      "execution_count": null,
      "outputs": [
        {
          "output_type": "stream",
          "name": "stdout",
          "text": [
            "tensor([[ 0.1416, -0.9505,  1.6924, -1.3657, -0.8808, -0.7438, -1.0403, -0.5629,\n",
            "          1.0599, -1.4482,  0.7557, -0.3271,  5.2744,  2.4739,  0.7786,  3.9320,\n",
            "          1.9388, -1.5435, -2.6599, -1.0092, -2.4879, -1.9603]],\n",
            "       device='cuda:0', grad_fn=<AddmmBackward0>)\n"
          ]
        }
      ]
    },
    {
      "cell_type": "code",
      "source": [
        "tens = torch.zeros(1,22).to(DEVICE);\n",
        "tens[0,12] = 1;\n",
        "tens\n"
      ],
      "metadata": {
        "colab": {
          "base_uri": "https://localhost:8080/"
        },
        "id": "T2pwzLVEY0cr",
        "outputId": "0c95943c-7295-4c86-b820-63888c137356"
      },
      "execution_count": null,
      "outputs": [
        {
          "output_type": "execute_result",
          "data": {
            "text/plain": [
              "tensor([[0., 0., 0., 0., 0., 0., 0., 0., 0., 0., 0., 0., 1., 0., 0., 0., 0., 0.,\n",
              "         0., 0., 0., 0.]], device='cuda:0')"
            ]
          },
          "metadata": {},
          "execution_count": 98
        }
      ]
    },
    {
      "cell_type": "code",
      "source": [
        "x = calculateMisclassificationPercentage(output,tens)\n",
        "print(x)"
      ],
      "metadata": {
        "colab": {
          "base_uri": "https://localhost:8080/"
        },
        "id": "Jp92NDFP3XYj",
        "outputId": "bb73d17f-b6b5-4a7f-f7de-8e879912218f"
      },
      "execution_count": null,
      "outputs": [
        {
          "output_type": "stream",
          "name": "stdout",
          "text": [
            "tensor([12], device='cuda:0')\n",
            "0.0\n"
          ]
        }
      ]
    },
    {
      "cell_type": "code",
      "source": [],
      "metadata": {
        "id": "WIK6HOtmXAFJ"
      },
      "execution_count": null,
      "outputs": []
    },
    {
      "cell_type": "code",
      "source": [],
      "metadata": {
        "id": "g1Xu_J7em-Er"
      },
      "execution_count": null,
      "outputs": []
    },
    {
      "cell_type": "code",
      "source": [
        "sftmax = torch.nn.Softmax(dim=1)\n",
        "probs = sftmax(output).data\n",
        "print(probs)\n"
      ],
      "metadata": {
        "id": "YEVDjyjeZTEg",
        "colab": {
          "base_uri": "https://localhost:8080/"
        },
        "outputId": "14e86333-8464-4ae9-e70d-9007b4c762bc"
      },
      "execution_count": null,
      "outputs": [
        {
          "output_type": "stream",
          "name": "stdout",
          "text": [
            "tensor([[4.0685e-03, 1.3651e-03, 1.9184e-02, 9.0124e-04, 1.4636e-03, 1.6786e-03,\n",
            "         1.2479e-03, 2.0113e-03, 1.0192e-02, 8.2988e-04, 7.5188e-03, 2.5463e-03,\n",
            "         6.8962e-01, 4.1915e-02, 7.6927e-03, 1.8014e-01, 2.4546e-02, 7.5444e-04,\n",
            "         2.4705e-04, 1.2872e-03, 2.9342e-04, 4.9729e-04]], device='cuda:0')\n"
          ]
        }
      ]
    },
    {
      "cell_type": "code",
      "source": [
        "# print(torch.sum(output))\n",
        "torch.max(output,1)\n",
        "# print(prediction.data)"
      ],
      "metadata": {
        "colab": {
          "base_uri": "https://localhost:8080/"
        },
        "id": "UFVso1gef0X5",
        "outputId": "8862451c-d9a0-483a-d35d-dcc8a524f493"
      },
      "execution_count": null,
      "outputs": [
        {
          "output_type": "execute_result",
          "data": {
            "text/plain": [
              "torch.return_types.max(\n",
              "values=tensor([5.2744], device='cuda:0', grad_fn=<MaxBackward0>),\n",
              "indices=tensor([12], device='cuda:0'))"
            ]
          },
          "metadata": {},
          "execution_count": 101
        }
      ]
    },
    {
      "cell_type": "code",
      "source": [
        "print(predictions.tolist())"
      ],
      "metadata": {
        "colab": {
          "base_uri": "https://localhost:8080/",
          "height": 179
        },
        "id": "x-IK_cwlVNpx",
        "outputId": "7a53ff43-f4ab-4140-9320-c5cca48546f4"
      },
      "execution_count": null,
      "outputs": [
        {
          "output_type": "error",
          "ename": "NameError",
          "evalue": "ignored",
          "traceback": [
            "\u001b[0;31m---------------------------------------------------------------------------\u001b[0m",
            "\u001b[0;31mNameError\u001b[0m                                 Traceback (most recent call last)",
            "\u001b[0;32m<ipython-input-33-cc89f24523d2>\u001b[0m in \u001b[0;36m<cell line: 1>\u001b[0;34m()\u001b[0m\n\u001b[0;32m----> 1\u001b[0;31m \u001b[0mprint\u001b[0m\u001b[0;34m(\u001b[0m\u001b[0mpredictions\u001b[0m\u001b[0;34m.\u001b[0m\u001b[0mtolist\u001b[0m\u001b[0;34m(\u001b[0m\u001b[0;34m)\u001b[0m\u001b[0;34m)\u001b[0m\u001b[0;34m\u001b[0m\u001b[0;34m\u001b[0m\u001b[0m\n\u001b[0m",
            "\u001b[0;31mNameError\u001b[0m: name 'predictions' is not defined"
          ]
        }
      ]
    },
    {
      "cell_type": "code",
      "source": [
        "print(full_dataset.classes[prediction.data[0]])"
      ],
      "metadata": {
        "colab": {
          "base_uri": "https://localhost:8080/",
          "height": 179
        },
        "id": "av9jLBbkhGkv",
        "outputId": "3f9dc7fc-fa24-4ee8-f9f5-8b5f06dc8dd3"
      },
      "execution_count": null,
      "outputs": [
        {
          "output_type": "error",
          "ename": "NameError",
          "evalue": "ignored",
          "traceback": [
            "\u001b[0;31m---------------------------------------------------------------------------\u001b[0m",
            "\u001b[0;31mNameError\u001b[0m                                 Traceback (most recent call last)",
            "\u001b[0;32m<ipython-input-34-400612d59b89>\u001b[0m in \u001b[0;36m<cell line: 1>\u001b[0;34m()\u001b[0m\n\u001b[0;32m----> 1\u001b[0;31m \u001b[0mprint\u001b[0m\u001b[0;34m(\u001b[0m\u001b[0mfull_dataset\u001b[0m\u001b[0;34m.\u001b[0m\u001b[0mclasses\u001b[0m\u001b[0;34m[\u001b[0m\u001b[0mprediction\u001b[0m\u001b[0;34m.\u001b[0m\u001b[0mdata\u001b[0m\u001b[0;34m[\u001b[0m\u001b[0;36m0\u001b[0m\u001b[0;34m]\u001b[0m\u001b[0;34m]\u001b[0m\u001b[0;34m)\u001b[0m\u001b[0;34m\u001b[0m\u001b[0;34m\u001b[0m\u001b[0m\n\u001b[0m",
            "\u001b[0;31mNameError\u001b[0m: name 'prediction' is not defined"
          ]
        }
      ]
    },
    {
      "cell_type": "code",
      "source": [
        "probs = torch.nn.functional.softmax(outputs,dim=1)\n",
        "# _, prediction = torch.max(probs,1)\n",
        "# print(prediction)"
      ],
      "metadata": {
        "id": "qkK6kEobiIX9"
      },
      "execution_count": null,
      "outputs": []
    },
    {
      "cell_type": "markdown",
      "source": [],
      "metadata": {
        "id": "Gn8jInaFlN3F"
      }
    },
    {
      "cell_type": "code",
      "source": [
        "print(probs.shape)"
      ],
      "metadata": {
        "colab": {
          "base_uri": "https://localhost:8080/"
        },
        "id": "vmAxArRriWzJ",
        "outputId": "df6abda8-7035-4329-f144-083b5c73b03b"
      },
      "execution_count": null,
      "outputs": [
        {
          "output_type": "stream",
          "name": "stdout",
          "text": [
            "torch.Size([128, 22])\n"
          ]
        }
      ]
    },
    {
      "cell_type": "code",
      "source": [
        "max_prob_index = torch.argmax(probs,dim=1)"
      ],
      "metadata": {
        "id": "b5Bf0YZ5Oey4"
      },
      "execution_count": null,
      "outputs": []
    },
    {
      "cell_type": "code",
      "source": [
        "print(max_prob_index)"
      ],
      "metadata": {
        "colab": {
          "base_uri": "https://localhost:8080/"
        },
        "id": "ViuEwU58PAck",
        "outputId": "57716bf0-0d5b-4923-830f-29fdaa41a837"
      },
      "execution_count": null,
      "outputs": [
        {
          "output_type": "stream",
          "name": "stdout",
          "text": [
            "tensor([20,  5,  5, 20,  5,  5,  5,  5, 20,  5,  4, 15, 20, 20, 20,  5,  5, 20,\n",
            "        20, 20,  4,  0, 20,  5,  4,  5,  5, 20, 20,  5, 20,  8, 20,  0,  5,  3,\n",
            "         5,  4, 20,  4, 20,  4, 20, 20,  5,  5,  5,  4, 20,  6,  5,  5,  0, 20,\n",
            "         0, 20, 20, 20,  5, 20,  0, 20, 20,  5, 20,  0, 20,  5,  5, 20, 20,  5,\n",
            "         5,  5,  5, 20,  2, 20,  5,  5,  4,  0,  5,  5, 20, 20, 20,  5,  5,  5,\n",
            "        20,  0,  5, 20,  5, 20,  5, 20, 20, 20,  5,  5,  4,  6, 20,  5,  4,  5,\n",
            "         5, 20,  5,  5,  5, 20, 20, 20,  5,  0,  5,  5,  5,  5,  5,  5, 20,  5,\n",
            "         5,  5], device='cuda:0')\n"
          ]
        }
      ]
    },
    {
      "cell_type": "code",
      "source": [
        "full_dataset.classes[max_prob_index]"
      ],
      "metadata": {
        "colab": {
          "base_uri": "https://localhost:8080/",
          "height": 176
        },
        "id": "6-qXI1H2O5Zk",
        "outputId": "e291d5b8-92b8-4d68-c5ef-c170b57769b5"
      },
      "execution_count": null,
      "outputs": [
        {
          "output_type": "error",
          "ename": "IndexError",
          "evalue": "ignored",
          "traceback": [
            "\u001b[0;31m---------------------------------------------------------------------------\u001b[0m",
            "\u001b[0;31mIndexError\u001b[0m                                Traceback (most recent call last)",
            "\u001b[0;32m<ipython-input-26-d5c306d227fe>\u001b[0m in \u001b[0;36m<cell line: 1>\u001b[0;34m()\u001b[0m\n\u001b[0;32m----> 1\u001b[0;31m \u001b[0mfull_dataset\u001b[0m\u001b[0;34m.\u001b[0m\u001b[0mclasses\u001b[0m\u001b[0;34m[\u001b[0m\u001b[0mmax_prob_index\u001b[0m\u001b[0;34m]\u001b[0m\u001b[0;34m\u001b[0m\u001b[0;34m\u001b[0m\u001b[0m\n\u001b[0m",
            "\u001b[0;31mIndexError\u001b[0m: list index out of range"
          ]
        }
      ]
    },
    {
      "cell_type": "code",
      "source": [],
      "metadata": {
        "id": "8uymvQE2TbDk"
      },
      "execution_count": null,
      "outputs": []
    }
  ]
}